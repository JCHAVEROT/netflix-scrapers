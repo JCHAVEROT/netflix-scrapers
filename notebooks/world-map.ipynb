{
 "cells": [
  {
   "cell_type": "code",
   "execution_count": 1,
   "metadata": {},
   "outputs": [],
   "source": [
    "import pandas as pd"
   ]
  },
  {
   "cell_type": "code",
   "execution_count": 2,
   "metadata": {},
   "outputs": [
    {
     "name": "stderr",
     "output_type": "stream",
     "text": [
      "/tmp/ipykernel_55940/2066397806.py:14: FutureWarning: Setting an item of incompatible dtype is deprecated and will raise an error in a future version of pandas. Value '8.2' has dtype incompatible with int64, please explicitly cast to a compatible dtype first.\n",
      "  df_country.loc[filter_id, 'imdb'] = row['imdb_score']\n",
      "/tmp/ipykernel_55940/2066397806.py:15: FutureWarning: Setting an item of incompatible dtype is deprecated and will raise an error in a future version of pandas. Value '8.179' has dtype incompatible with int64, please explicitly cast to a compatible dtype first.\n",
      "  df_country.loc[filter_id, 'tmdb'] = row['tmdb_score']\n"
     ]
    }
   ],
   "source": [
    "df = pd.read_csv('../data/others/new_credits.csv')\n",
    "df_titles = pd.read_csv('../data/titles.csv')\n",
    "filter_country = df['iso'].notna()\n",
    "df_country = df[filter_country]\n",
    "\n",
    "df_country.insert(10, \"imdb\", [0] * len(df_country))\n",
    "df_country.insert(10, \"tmdb\", [0] * len(df_country))\n",
    "for index, row in df_titles.iterrows():\n",
    "    try:\n",
    "        filter_id = df_country['id'] == row['id']\n",
    "        df_title = df_country[filter_id]\n",
    "        if len(df_country[filter_id]) == 0:\n",
    "            continue\n",
    "        df_country.loc[filter_id, 'imdb'] = row['imdb_score']\n",
    "        df_country.loc[filter_id, 'tmdb'] = row['tmdb_score']\n",
    "    except KeyError:\n",
    "        continue\n",
    "df_country = df_country[df_country['imdb'].notna() & df_country['tmdb'].notna()]\n",
    "df_country.to_csv(\"../data/others/new_credits_score.csv\")\n"
   ]
  },
  {
   "cell_type": "code",
   "execution_count": 3,
   "metadata": {},
   "outputs": [],
   "source": [
    "person_ids = df_country['person_id'].unique().tolist()\n",
    "\n",
    "country_mean_imdb_scores = dict()\n",
    "country_mean_tmdb_scores = dict()\n",
    "for person_id in person_ids:\n",
    "    filter_person_id = df_country['person_id'] == person_id\n",
    "    df_person = df_country[filter_person_id]\n",
    "    mean_imdb = df_person.loc[:, 'imdb'].mean()\n",
    "    mean_tmdb = df_person.loc[:, 'tmdb'].mean()\n",
    "    \n",
    "    iso = df_person.iloc[0]['iso']\n",
    "    if iso not in country_mean_imdb_scores.keys():\n",
    "        country_mean_imdb_scores[iso] = [mean_imdb]\n",
    "        country_mean_tmdb_scores[iso] = [mean_tmdb]\n",
    "    else:\n",
    "        country_mean_imdb_scores[iso].append(mean_imdb)\n",
    "        country_mean_tmdb_scores[iso].append(mean_tmdb)\n",
    "\n",
    "df_country_mean_scores = pd.DataFrame(columns=['iso', 'mean_imdb', 'mean_tmdb'])\n",
    "for iso in country_mean_imdb_scores.keys():\n",
    "    mean_imdb = sum(country_mean_imdb_scores[iso]) / len(country_mean_imdb_scores[iso])\n",
    "    mean_tmdb = sum(country_mean_tmdb_scores[iso]) / len(country_mean_tmdb_scores[iso])\n",
    "    row = [iso, round(mean_imdb, 2), round(mean_tmdb, 2)]\n",
    "    df_country_mean_scores.loc[len(df_country_mean_scores.index)] = row\n",
    "\n",
    "df_country_mean_scores.to_csv('../data/country_scores.csv')"
   ]
  }
 ],
 "metadata": {
  "kernelspec": {
   "display_name": ".venv",
   "language": "python",
   "name": "python3"
  },
  "language_info": {
   "codemirror_mode": {
    "name": "ipython",
    "version": 3
   },
   "file_extension": ".py",
   "mimetype": "text/x-python",
   "name": "python",
   "nbconvert_exporter": "python",
   "pygments_lexer": "ipython3",
   "version": "3.10.12"
  }
 },
 "nbformat": 4,
 "nbformat_minor": 2
}
